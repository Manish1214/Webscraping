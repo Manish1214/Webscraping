{
 "cells": [
  {
   "cell_type": "markdown",
   "metadata": {},
   "source": [
    "# IMDB Movies\n",
    "\n",
    "**WebScraping :**  Web scraping is a technique which is used to collect data from the internet. Which is usually saved in a file and used for analyzing the data.\n",
    "\n",
    "**Statement :** We are going to see how to retrive titles, duration of movies from https://www.imdb.com/list/ls099757037/ and copy them to a file.\n",
    "\n",
    "**Tools :** Python, requests, BeautifulSoup, pandas.\n"
   ]
  },
  {
   "cell_type": "markdown",
   "metadata": {},
   "source": [
    "## Steps:\n",
    "\n",
    "- Use requests to download the page\n",
    "- Use bs4 to parse and extract information\n",
    "- Convert to pandas dataframe\n",
    "- Converting to CSV file"
   ]
  },
  {
   "cell_type": "markdown",
   "metadata": {},
   "source": [
    "# Use requests to download the page"
   ]
  },
  {
   "cell_type": "markdown",
   "metadata": {},
   "source": [
    "Python requests librabry is used to make http request to a specified URI using GET,POST,PUT,PATCH or HEAD methods. A request is made either to retrieve data from specified URI or to push data to a server."
   ]
  },
  {
   "cell_type": "code",
   "execution_count": 2,
   "metadata": {},
   "outputs": [
    {
     "data": {
      "text/plain": [
       "200"
      ]
     },
     "execution_count": 2,
     "metadata": {},
     "output_type": "execute_result"
    }
   ],
   "source": [
    "import requests\n",
    "url='https://www.imdb.com/list/ls099757037/'\n",
    "response=requests.get(url) # get() method is used to retrieve information from server\n",
    "response.status_code # HTTP Status code 200 means client has requested details from server,and server has responded with the details"
   ]
  },
  {
   "cell_type": "code",
   "execution_count": 13,
   "metadata": {
    "scrolled": true
   },
   "outputs": [],
   "source": [
    "page_content=response.text\n",
    "#print(page_content)  print the response"
   ]
  },
  {
   "cell_type": "markdown",
   "metadata": {},
   "source": [
    "# use bs4 to parse and extract information"
   ]
  },
  {
   "cell_type": "markdown",
   "metadata": {},
   "source": [
    " bs4 stands for BeautifulSoup version 4.x which was created basically for purpose of web scraping. This module helps us in pulling out data from HTML/XML files."
   ]
  },
  {
   "cell_type": "code",
   "execution_count": 6,
   "metadata": {},
   "outputs": [],
   "source": [
    "from bs4 import BeautifulSoup\n",
    "soup=BeautifulSoup(page_content,'html.parser')"
   ]
  },
  {
   "cell_type": "code",
   "execution_count": 11,
   "metadata": {},
   "outputs": [],
   "source": [
    "Movie=[]\n",
    "Duration=[]\n",
    "Rating=[]\n",
    "crawl1=soup.find_all('div',{'class':'lister-item-content'}) #find_all will give all the results for what we have searching\n",
    "for i in crawl1:\n",
    "   Movie.append(i.h3.a.text)\n",
    "   D=i.find('span',{'class':'runtime'}) #find method will give first match/result of searching criteria\n",
    "   R=i.find('span',{'class':'ipl-rating-star__rating'})\n",
    "   \n",
    "   if D is None:\n",
    "       Duration.append('None')\n",
    "   else:\n",
    "       Duration.append(D.text.replace('min',\" \").strip())\n",
    "   if R is None:\n",
    "       Rating.append('None')\n",
    "   else:\n",
    "       Rating.append(R.text)\n",
    "Dic={'Movie':Movie,'Duration in Minutes':Duration,'Rating':Rating}"
   ]
  },
  {
   "cell_type": "markdown",
   "metadata": {},
   "source": [
    "# Converting to pandas dataframe"
   ]
  },
  {
   "cell_type": "code",
   "execution_count": 9,
   "metadata": {},
   "outputs": [],
   "source": [
    "import pandas as pd\n",
    "Movies_df=pd.DataFrame(Dic)"
   ]
  },
  {
   "cell_type": "markdown",
   "metadata": {},
   "source": [
    "# Converting to CSV file"
   ]
  },
  {
   "cell_type": "code",
   "execution_count": 10,
   "metadata": {},
   "outputs": [],
   "source": [
    "import csv\n",
    "Movies_df.to_csv('IMDB.csv',index=None)"
   ]
  },
  {
   "cell_type": "code",
   "execution_count": null,
   "metadata": {},
   "outputs": [],
   "source": []
  }
 ],
 "metadata": {
  "kernelspec": {
   "display_name": "Python 3",
   "language": "python",
   "name": "python3"
  },
  "language_info": {
   "codemirror_mode": {
    "name": "ipython",
    "version": 3
   },
   "file_extension": ".py",
   "mimetype": "text/x-python",
   "name": "python",
   "nbconvert_exporter": "python",
   "pygments_lexer": "ipython3",
   "version": "3.6.5"
  }
 },
 "nbformat": 4,
 "nbformat_minor": 2
}
